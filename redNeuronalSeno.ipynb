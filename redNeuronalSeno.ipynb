{
 "cells": [
  {
   "cell_type": "markdown",
   "metadata": {},
   "source": [
    "Código para sen(x)\n",
    "\n",
    "Lo primero que debemos hacer es importar los paquetes o librerias correspondientes , en nuestro caso numpy , math , keras , tensorflow\n",
    "fijamos el generador de números aleatorios para asegurar la repetibilidad en el análisis"
   ]
  },
  {
   "cell_type": "code",
   "execution_count": 1,
   "metadata": {},
   "outputs": [
    {
     "name": "stdout",
     "output_type": "stream",
     "text": [
      "2.7.0\n",
      "1.21.4\n"
     ]
    }
   ],
   "source": [
    "import random\n",
    "import numpy as np\n",
    "import math\n",
    "import keras\n",
    "from keras.layers import Dense , Activation\n",
    "from keras.models import Sequential\n",
    "import matplotlib.pyplot as plt\n",
    "import tensorflow as tf\n",
    "np.random.seed(123)\n",
    "tf.random.set_seed(123)\n",
    "print(keras.__version__)\n",
    "print(np.__version__)"
   ]
  },
  {
   "cell_type": "markdown",
   "metadata": {},
   "source": [
    "creamos 3 archivos train.txt que contendrá features y labels de los datos de entrenamiento, validation.txt que tiene los features y labels de los datos de validación por último test.txt que son solo las features de los datos test sin labels"
   ]
  },
  {
   "cell_type": "code",
   "execution_count": 3,
   "metadata": {},
   "outputs": [
    {
     "name": "stdout",
     "output_type": "stream",
     "text": [
      "data train finished\n",
      "data test finished\n",
      "data validation finished\n"
     ]
    }
   ],
   "source": [
    "outfile = open('train.txt','w')\n",
    "first = 0\n",
    "num = 0\n",
    "for count in range(1000):\n",
    "    num=(np.sin(first) +np.random.normal(0,0.1)+1)/2\n",
    "    outfile.write(str(first)+ ' '+str(num)+'\\n')\n",
    "    first=first+(2*math.pi)/1000\n",
    "outfile.close()\n",
    "print('data train finished')\n",
    "#######################################################################\n",
    "first= 0\n",
    "outfile = open('test.txt','w')\n",
    "for count in range(250):\n",
    "    outfile.write(str(first)+'\\n')\n",
    "    first = first+(2*math.pi+abs(np.random.normal(0,0.01)))/250\n",
    "outfile.close()\n",
    "print('data test finished')\n",
    "######################################################################\n",
    "first = abs(np.random.normal(0,0.1))\n",
    "outfile = open('validation.txt','w')\n",
    "for count in range(250):\n",
    "    num=(np.sin(first) +np.random.normal(0,0.1)+1)/2\n",
    "    outfile.write(str(first)+' '+str(num)+'\\n')\n",
    "outfile.close()\n",
    "print('data validation finished')\n",
    "######################################################################"
   ]
  },
  {
   "cell_type": "markdown",
   "metadata": {},
   "source": [
    "Recogemos los datos en arrays "
   ]
  },
  {
   "cell_type": "code",
   "execution_count": 4,
   "metadata": {},
   "outputs": [
    {
     "name": "stdout",
     "output_type": "stream",
     "text": [
      "250\n"
     ]
    }
   ],
   "source": [
    "#lectura de datos\n",
    "input = open('train.txt','r')\n",
    "Lines = input.readlines()\n",
    "x= np.array([])\n",
    "y = np.array([])\n",
    "for line in Lines:\n",
    "    lineS= line.split(' ')\n",
    "    x= np.append(x,float(lineS[0]))\n",
    "    y=np.append(y,float(lineS[1]))\n",
    "input.close()\n",
    "input =open('validation.txt','r')\n",
    "Lines = input.readlines()\n",
    "validationX = np.array([])\n",
    "validationY = np.array([])\n",
    "for line in Lines:\n",
    "    lineS = line.split(' ')\n",
    "    validationX = np.append(validationX,float(lineS[0]))\n",
    "    validationY = np.append(validationY,float(lineS[1]))\n",
    "input.close()\n",
    "\n",
    "input = open('test.txt','r')\n",
    "Lines = input.readlines()\n",
    "test = np.array([])\n",
    "for line in Lines:\n",
    "    test = np.append(test,float(line))\n",
    "print(len(validationX))\n",
    "\n"
   ]
  },
  {
   "cell_type": "markdown",
   "metadata": {},
   "source": [
    "Inicializamos la red neuronal será una red sencilla que consta de 2 hidden layers + la input + la output : la input consta de 6 neuronas con activacion relu y una input shape de 1 , las siguientes también son activation relu y las neuronas son 5 y 4 y la de salida es sigmoid y 1 neurona"
   ]
  },
  {
   "cell_type": "code",
   "execution_count": 5,
   "metadata": {},
   "outputs": [],
   "source": [
    "\n",
    "model = Sequential()\n",
    "model.add(Dense(6, input_shape = (1,), activation='relu'))\n",
    "model.add(Dense(5,activation='relu'))\n",
    "model.add(Dense(4,activation='relu'))\n",
    "model.add(Dense(1,activation='sigmoid'))"
   ]
  },
  {
   "cell_type": "markdown",
   "metadata": {},
   "source": [
    "Compilamos el model y seteamos los hiperparámetros la perdida, el optimizador , las métricas y la learning rate\n",
    "Por otro lado en el fit añadimos 400 epochs , un bs de 32 y los datos de validación , el learning rate tiene un buen impacto a partir de 8e-4,por lo que  hemos usado 1e-3,por último definimos el early stopping que Daniel nos recomendó"
   ]
  },
  {
   "cell_type": "code",
   "execution_count": 6,
   "metadata": {},
   "outputs": [
    {
     "name": "stdout",
     "output_type": "stream",
     "text": [
      "Epoch 1/150\n",
      "100/100 [==============================] - 1s 2ms/step - loss: 0.1125 - val_loss: 0.0025\n",
      "Epoch 2/150\n",
      "100/100 [==============================] - 0s 1ms/step - loss: 0.0996 - val_loss: 0.0040\n",
      "Epoch 3/150\n",
      "100/100 [==============================] - 0s 957us/step - loss: 0.0838 - val_loss: 0.0111\n",
      "Epoch 4/150\n",
      "100/100 [==============================] - 0s 937us/step - loss: 0.0642 - val_loss: 0.0302\n",
      "Epoch 5/150\n",
      "100/100 [==============================] - 0s 871us/step - loss: 0.0460 - val_loss: 0.0582\n",
      "Epoch 6/150\n",
      "100/100 [==============================] - 0s 1ms/step - loss: 0.0340 - val_loss: 0.0800\n",
      "Epoch 7/150\n",
      "100/100 [==============================] - 0s 932us/step - loss: 0.0277 - val_loss: 0.0898\n",
      "Epoch 8/150\n",
      "100/100 [==============================] - 0s 880us/step - loss: 0.0242 - val_loss: 0.0844\n",
      "Epoch 9/150\n",
      "100/100 [==============================] - 0s 870us/step - loss: 0.0217 - val_loss: 0.0757\n",
      "Epoch 10/150\n",
      "100/100 [==============================] - 0s 845us/step - loss: 0.0199 - val_loss: 0.0622\n",
      "Epoch 11/150\n",
      "100/100 [==============================] - 0s 886us/step - loss: 0.0185 - val_loss: 0.0487\n",
      "Epoch 12/150\n",
      "100/100 [==============================] - 0s 848us/step - loss: 0.0174 - val_loss: 0.0401\n",
      "Epoch 13/150\n",
      "100/100 [==============================] - 0s 860us/step - loss: 0.0166 - val_loss: 0.0318\n",
      "Epoch 14/150\n",
      "100/100 [==============================] - 0s 810us/step - loss: 0.0160 - val_loss: 0.0252\n",
      "Epoch 15/150\n",
      "100/100 [==============================] - 0s 862us/step - loss: 0.0155 - val_loss: 0.0199\n",
      "Epoch 16/150\n",
      "100/100 [==============================] - 0s 849us/step - loss: 0.0152 - val_loss: 0.0160\n",
      "Epoch 17/150\n",
      "100/100 [==============================] - 0s 869us/step - loss: 0.0150 - val_loss: 0.0128\n",
      "Epoch 18/150\n",
      "100/100 [==============================] - 0s 892us/step - loss: 0.0148 - val_loss: 0.0107\n",
      "Epoch 19/150\n",
      "100/100 [==============================] - 0s 880us/step - loss: 0.0146 - val_loss: 0.0099\n",
      "Epoch 20/150\n",
      "100/100 [==============================] - 0s 849us/step - loss: 0.0145 - val_loss: 0.0076\n",
      "Epoch 21/150\n",
      "100/100 [==============================] - 0s 859us/step - loss: 0.0144 - val_loss: 0.0091\n",
      "Epoch 22/150\n",
      "100/100 [==============================] - 0s 829us/step - loss: 0.0143 - val_loss: 0.0082\n",
      "Epoch 23/150\n",
      "100/100 [==============================] - 0s 849us/step - loss: 0.0142 - val_loss: 0.0058\n",
      "Epoch 24/150\n",
      "100/100 [==============================] - 0s 867us/step - loss: 0.0142 - val_loss: 0.0086\n",
      "Epoch 25/150\n",
      "100/100 [==============================] - 0s 839us/step - loss: 0.0141 - val_loss: 0.0047\n",
      "Epoch 26/150\n",
      "100/100 [==============================] - 0s 849us/step - loss: 0.0140 - val_loss: 0.0056\n",
      "Epoch 27/150\n",
      "100/100 [==============================] - 0s 844us/step - loss: 0.0139 - val_loss: 0.0062\n",
      "Epoch 28/150\n",
      "100/100 [==============================] - 0s 839us/step - loss: 0.0139 - val_loss: 0.0052\n",
      "Epoch 29/150\n",
      "100/100 [==============================] - 0s 809us/step - loss: 0.0137 - val_loss: 0.0058\n",
      "Epoch 30/150\n",
      "100/100 [==============================] - 0s 869us/step - loss: 0.0137 - val_loss: 0.0053\n",
      "Epoch 31/150\n",
      "100/100 [==============================] - 0s 800us/step - loss: 0.0136 - val_loss: 0.0048\n",
      "Epoch 32/150\n",
      "100/100 [==============================] - 0s 829us/step - loss: 0.0135 - val_loss: 0.0042\n",
      "Epoch 33/150\n",
      "100/100 [==============================] - 0s 849us/step - loss: 0.0135 - val_loss: 0.0032\n",
      "Epoch 34/150\n",
      "100/100 [==============================] - 0s 880us/step - loss: 0.0133 - val_loss: 0.0036\n",
      "Epoch 35/150\n",
      "100/100 [==============================] - 0s 890us/step - loss: 0.0132 - val_loss: 0.0032\n",
      "Epoch 36/150\n",
      "100/100 [==============================] - 0s 1ms/step - loss: 0.0131 - val_loss: 0.0037\n",
      "Epoch 37/150\n",
      "100/100 [==============================] - 0s 890us/step - loss: 0.0130 - val_loss: 0.0031\n",
      "Epoch 38/150\n",
      "100/100 [==============================] - 0s 1ms/step - loss: 0.0130 - val_loss: 0.0035\n",
      "Epoch 39/150\n",
      "100/100 [==============================] - 0s 1ms/step - loss: 0.0128 - val_loss: 0.0031\n",
      "Epoch 40/150\n",
      "100/100 [==============================] - 0s 859us/step - loss: 0.0127 - val_loss: 0.0028\n",
      "Epoch 41/150\n",
      "100/100 [==============================] - 0s 960us/step - loss: 0.0126 - val_loss: 0.0029\n",
      "Epoch 42/150\n",
      "100/100 [==============================] - 0s 884us/step - loss: 0.0125 - val_loss: 0.0039\n",
      "Epoch 43/150\n",
      "100/100 [==============================] - 0s 852us/step - loss: 0.0124 - val_loss: 0.0025\n",
      "Epoch 44/150\n",
      "100/100 [==============================] - 0s 881us/step - loss: 0.0122 - val_loss: 0.0029\n",
      "Epoch 45/150\n",
      "100/100 [==============================] - 0s 890us/step - loss: 0.0121 - val_loss: 0.0026\n",
      "Epoch 46/150\n",
      "100/100 [==============================] - 0s 879us/step - loss: 0.0120 - val_loss: 0.0026\n",
      "Epoch 47/150\n",
      "100/100 [==============================] - 0s 889us/step - loss: 0.0119 - val_loss: 0.0029\n",
      "Epoch 48/150\n",
      "100/100 [==============================] - 0s 852us/step - loss: 0.0117 - val_loss: 0.0024\n",
      "Epoch 49/150\n",
      "100/100 [==============================] - 0s 860us/step - loss: 0.0115 - val_loss: 0.0024\n",
      "Epoch 50/150\n",
      "100/100 [==============================] - 0s 851us/step - loss: 0.0114 - val_loss: 0.0024\n",
      "Epoch 51/150\n",
      "100/100 [==============================] - 0s 862us/step - loss: 0.0112 - val_loss: 0.0026\n",
      "Epoch 52/150\n",
      "100/100 [==============================] - 0s 859us/step - loss: 0.0110 - val_loss: 0.0024\n",
      "Epoch 53/150\n",
      "100/100 [==============================] - 0s 862us/step - loss: 0.0109 - val_loss: 0.0025\n",
      "Epoch 54/150\n",
      "100/100 [==============================] - 0s 882us/step - loss: 0.0106 - val_loss: 0.0026\n",
      "Epoch 55/150\n",
      "100/100 [==============================] - 0s 851us/step - loss: 0.0104 - val_loss: 0.0026\n",
      "Epoch 56/150\n",
      "100/100 [==============================] - 0s 872us/step - loss: 0.0103 - val_loss: 0.0034\n",
      "Epoch 57/150\n",
      "100/100 [==============================] - 0s 881us/step - loss: 0.0100 - val_loss: 0.0025\n",
      "Epoch 58/150\n",
      "100/100 [==============================] - 0s 859us/step - loss: 0.0098 - val_loss: 0.0025\n",
      "Epoch 59/150\n",
      "100/100 [==============================] - 0s 840us/step - loss: 0.0095 - val_loss: 0.0026\n",
      "Epoch 60/150\n",
      "100/100 [==============================] - 0s 849us/step - loss: 0.0092 - val_loss: 0.0027\n",
      "Epoch 61/150\n",
      "100/100 [==============================] - 0s 880us/step - loss: 0.0090 - val_loss: 0.0030\n",
      "Epoch 62/150\n",
      "100/100 [==============================] - 0s 839us/step - loss: 0.0086 - val_loss: 0.0036\n",
      "Epoch 63/150\n",
      "100/100 [==============================] - 0s 871us/step - loss: 0.0083 - val_loss: 0.0028\n",
      "Epoch 64/150\n",
      "100/100 [==============================] - 0s 932us/step - loss: 0.0080 - val_loss: 0.0032\n",
      "Epoch 65/150\n",
      "100/100 [==============================] - 0s 869us/step - loss: 0.0078 - val_loss: 0.0048\n",
      "Epoch 66/150\n",
      "100/100 [==============================] - 0s 873us/step - loss: 0.0074 - val_loss: 0.0026\n",
      "Epoch 67/150\n",
      "100/100 [==============================] - 0s 840us/step - loss: 0.0072 - val_loss: 0.0028\n",
      "Epoch 68/150\n",
      "100/100 [==============================] - 0s 914us/step - loss: 0.0068 - val_loss: 0.0033\n",
      "Epoch 69/150\n",
      "100/100 [==============================] - 0s 884us/step - loss: 0.0066 - val_loss: 0.0026\n",
      "Epoch 70/150\n",
      "100/100 [==============================] - 0s 872us/step - loss: 0.0063 - val_loss: 0.0031\n",
      "Epoch 71/150\n",
      "100/100 [==============================] - 0s 858us/step - loss: 0.0059 - val_loss: 0.0028\n",
      "Epoch 72/150\n",
      "100/100 [==============================] - 0s 890us/step - loss: 0.0058 - val_loss: 0.0029\n",
      "Epoch 73/150\n",
      "100/100 [==============================] - 0s 841us/step - loss: 0.0054 - val_loss: 0.0038\n",
      "Epoch 74/150\n",
      "100/100 [==============================] - 0s 854us/step - loss: 0.0053 - val_loss: 0.0038\n",
      "Epoch 75/150\n",
      "100/100 [==============================] - 0s 843us/step - loss: 0.0051 - val_loss: 0.0028\n",
      "Epoch 76/150\n",
      "100/100 [==============================] - 0s 859us/step - loss: 0.0049 - val_loss: 0.0031\n",
      "Epoch 77/150\n",
      "100/100 [==============================] - 0s 861us/step - loss: 0.0047 - val_loss: 0.0028\n",
      "Epoch 78/150\n",
      "100/100 [==============================] - 0s 859us/step - loss: 0.0045 - val_loss: 0.0030\n",
      "Epoch 79/150\n",
      "100/100 [==============================] - 0s 844us/step - loss: 0.0043 - val_loss: 0.0029\n",
      "Epoch 80/150\n",
      "100/100 [==============================] - 0s 881us/step - loss: 0.0041 - val_loss: 0.0037\n",
      "Epoch 81/150\n",
      "100/100 [==============================] - 0s 862us/step - loss: 0.0040 - val_loss: 0.0027\n",
      "Epoch 82/150\n",
      "100/100 [==============================] - 0s 921us/step - loss: 0.0039 - val_loss: 0.0062\n",
      "Epoch 83/150\n",
      "100/100 [==============================] - 0s 852us/step - loss: 0.0038 - val_loss: 0.0031\n",
      "Epoch 84/150\n",
      "100/100 [==============================] - 0s 826us/step - loss: 0.0037 - val_loss: 0.0045\n",
      "Epoch 85/150\n",
      "100/100 [==============================] - 0s 859us/step - loss: 0.0036 - val_loss: 0.0030\n",
      "Epoch 86/150\n",
      "100/100 [==============================] - 0s 849us/step - loss: 0.0036 - val_loss: 0.0027\n",
      "Epoch 87/150\n",
      "100/100 [==============================] - 0s 870us/step - loss: 0.0034 - val_loss: 0.0027\n",
      "Epoch 88/150\n",
      "100/100 [==============================] - 0s 890us/step - loss: 0.0034 - val_loss: 0.0031\n",
      "Epoch 89/150\n",
      "100/100 [==============================] - 0s 859us/step - loss: 0.0033 - val_loss: 0.0059\n",
      "Epoch 90/150\n",
      "100/100 [==============================] - 0s 870us/step - loss: 0.0033 - val_loss: 0.0043\n",
      "Epoch 91/150\n",
      "100/100 [==============================] - 0s 890us/step - loss: 0.0032 - val_loss: 0.0026\n",
      "Epoch 92/150\n",
      "100/100 [==============================] - 0s 836us/step - loss: 0.0032 - val_loss: 0.0026\n",
      "Epoch 93/150\n",
      "100/100 [==============================] - 0s 891us/step - loss: 0.0031 - val_loss: 0.0026\n",
      "Epoch 94/150\n",
      "100/100 [==============================] - 0s 861us/step - loss: 0.0031 - val_loss: 0.0027\n",
      "Epoch 95/150\n",
      "100/100 [==============================] - 0s 890us/step - loss: 0.0030 - val_loss: 0.0041\n",
      "Epoch 96/150\n",
      "100/100 [==============================] - 0s 819us/step - loss: 0.0030 - val_loss: 0.0028\n",
      "Epoch 97/150\n",
      "100/100 [==============================] - 0s 859us/step - loss: 0.0030 - val_loss: 0.0045\n",
      "Epoch 98/150\n",
      "100/100 [==============================] - 0s 872us/step - loss: 0.0030 - val_loss: 0.0025\n",
      "Epoch 99/150\n",
      "100/100 [==============================] - 0s 900us/step - loss: 0.0030 - val_loss: 0.0045\n",
      "Epoch 100/150\n",
      "100/100 [==============================] - 0s 849us/step - loss: 0.0030 - val_loss: 0.0032\n",
      "Epoch 101/150\n",
      "100/100 [==============================] - 0s 890us/step - loss: 0.0029 - val_loss: 0.0048\n",
      "Epoch 102/150\n",
      "100/100 [==============================] - 0s 842us/step - loss: 0.0029 - val_loss: 0.0053\n",
      "Epoch 103/150\n",
      "100/100 [==============================] - 0s 871us/step - loss: 0.0030 - val_loss: 0.0036\n",
      "Epoch 104/150\n",
      "100/100 [==============================] - 0s 844us/step - loss: 0.0029 - val_loss: 0.0024\n",
      "Epoch 105/150\n",
      "100/100 [==============================] - 0s 869us/step - loss: 0.0029 - val_loss: 0.0033\n",
      "Epoch 106/150\n",
      "100/100 [==============================] - 0s 840us/step - loss: 0.0029 - val_loss: 0.0032\n",
      "Epoch 107/150\n",
      "100/100 [==============================] - 0s 880us/step - loss: 0.0029 - val_loss: 0.0031\n",
      "Epoch 108/150\n",
      "100/100 [==============================] - 0s 850us/step - loss: 0.0029 - val_loss: 0.0035\n",
      "Epoch 109/150\n",
      "100/100 [==============================] - 0s 870us/step - loss: 0.0028 - val_loss: 0.0066\n",
      "Epoch 110/150\n",
      "100/100 [==============================] - 0s 900us/step - loss: 0.0029 - val_loss: 0.0037\n",
      "Epoch 111/150\n",
      "100/100 [==============================] - 0s 953us/step - loss: 0.0029 - val_loss: 0.0045\n",
      "Epoch 112/150\n",
      "100/100 [==============================] - 0s 859us/step - loss: 0.0029 - val_loss: 0.0037\n",
      "Epoch 113/150\n",
      "100/100 [==============================] - 0s 917us/step - loss: 0.0029 - val_loss: 0.0033\n",
      "Epoch 114/150\n",
      "100/100 [==============================] - 0s 849us/step - loss: 0.0028 - val_loss: 0.0120\n",
      "Epoch 115/150\n",
      "100/100 [==============================] - 0s 872us/step - loss: 0.0028 - val_loss: 0.0034\n",
      "Epoch 116/150\n",
      "100/100 [==============================] - 0s 1ms/step - loss: 0.0028 - val_loss: 0.0039\n",
      "Epoch 117/150\n",
      "100/100 [==============================] - 0s 851us/step - loss: 0.0028 - val_loss: 0.0027\n",
      "Epoch 118/150\n",
      "100/100 [==============================] - 0s 845us/step - loss: 0.0028 - val_loss: 0.0027\n",
      "Epoch 119/150\n",
      "100/100 [==============================] - 0s 863us/step - loss: 0.0028 - val_loss: 0.0032\n",
      "Epoch 120/150\n",
      "100/100 [==============================] - 0s 864us/step - loss: 0.0028 - val_loss: 0.0030\n",
      "Epoch 121/150\n",
      "100/100 [==============================] - 0s 866us/step - loss: 0.0028 - val_loss: 0.0029\n",
      "Epoch 122/150\n",
      "100/100 [==============================] - 0s 852us/step - loss: 0.0028 - val_loss: 0.0029\n",
      "Epoch 123/150\n",
      "100/100 [==============================] - 0s 851us/step - loss: 0.0028 - val_loss: 0.0035\n",
      "Epoch 124/150\n",
      "100/100 [==============================] - 0s 829us/step - loss: 0.0028 - val_loss: 0.0024\n",
      "Epoch 125/150\n",
      "100/100 [==============================] - 0s 890us/step - loss: 0.0029 - val_loss: 0.0034\n",
      "Epoch 126/150\n",
      "100/100 [==============================] - 0s 870us/step - loss: 0.0029 - val_loss: 0.0035\n",
      "Epoch 127/150\n",
      "100/100 [==============================] - 0s 870us/step - loss: 0.0028 - val_loss: 0.0036\n",
      "Epoch 128/150\n",
      "100/100 [==============================] - 0s 850us/step - loss: 0.0028 - val_loss: 0.0024\n",
      "Epoch 129/150\n",
      "100/100 [==============================] - 0s 854us/step - loss: 0.0028 - val_loss: 0.0024\n",
      "Epoch 130/150\n",
      "100/100 [==============================] - 0s 857us/step - loss: 0.0028 - val_loss: 0.0036\n",
      "Epoch 131/150\n",
      "100/100 [==============================] - 0s 864us/step - loss: 0.0028 - val_loss: 0.0025\n",
      "Epoch 132/150\n",
      "100/100 [==============================] - 0s 882us/step - loss: 0.0028 - val_loss: 0.0028\n",
      "Epoch 133/150\n",
      "100/100 [==============================] - 0s 870us/step - loss: 0.0028 - val_loss: 0.0031\n",
      "Epoch 134/150\n",
      "100/100 [==============================] - 0s 1ms/step - loss: 0.0027 - val_loss: 0.0031\n",
      "Epoch 135/150\n",
      "100/100 [==============================] - 0s 831us/step - loss: 0.0028 - val_loss: 0.0035\n",
      "Epoch 136/150\n",
      "100/100 [==============================] - 0s 859us/step - loss: 0.0028 - val_loss: 0.0024\n",
      "Epoch 137/150\n",
      "100/100 [==============================] - 0s 882us/step - loss: 0.0028 - val_loss: 0.0028\n",
      "Epoch 138/150\n",
      "100/100 [==============================] - 0s 869us/step - loss: 0.0028 - val_loss: 0.0024\n",
      "Epoch 139/150\n",
      "100/100 [==============================] - 0s 870us/step - loss: 0.0027 - val_loss: 0.0028\n",
      "Epoch 140/150\n",
      "100/100 [==============================] - 0s 890us/step - loss: 0.0027 - val_loss: 0.0026\n",
      "Epoch 141/150\n",
      "100/100 [==============================] - 0s 859us/step - loss: 0.0028 - val_loss: 0.0032\n",
      "Epoch 142/150\n",
      "100/100 [==============================] - 0s 860us/step - loss: 0.0028 - val_loss: 0.0031\n",
      "Epoch 143/150\n",
      "100/100 [==============================] - 0s 841us/step - loss: 0.0028 - val_loss: 0.0029\n",
      "Epoch 144/150\n",
      "100/100 [==============================] - 0s 912us/step - loss: 0.0028 - val_loss: 0.0030\n",
      "Epoch 145/150\n",
      "100/100 [==============================] - 0s 839us/step - loss: 0.0028 - val_loss: 0.0030\n",
      "Epoch 146/150\n",
      "100/100 [==============================] - 0s 880us/step - loss: 0.0028 - val_loss: 0.0031\n",
      "Epoch 147/150\n",
      "100/100 [==============================] - 0s 849us/step - loss: 0.0028 - val_loss: 0.0035\n",
      "Epoch 148/150\n",
      "100/100 [==============================] - 0s 869us/step - loss: 0.0028 - val_loss: 0.0036\n",
      "Epoch 149/150\n",
      "100/100 [==============================] - 0s 876us/step - loss: 0.0027 - val_loss: 0.0057\n",
      "Epoch 150/150\n",
      "100/100 [==============================] - 0s 890us/step - loss: 0.0029 - val_loss: 0.0024\n",
      "32/32 [==============================] - 0s 743us/step - loss: 0.0027\n"
     ]
    }
   ],
   "source": [
    "earStop = keras.callbacks.EarlyStopping(monitor='val_loss',min_delta=1e-6,patience=5,restore_best_weights=True)\n",
    "callb = [earStop]\n",
    "model.compile(loss='mean_squared_error', optimizer=keras.optimizers.adam_v2.Adam(learning_rate=1e-3))\n",
    "history =model.fit(x, y, epochs=150,validation_data=(validationX,validationY), batch_size=10,verbose = 1)\n",
    "\n",
    "scores = model.evaluate(x, y)\n"
   ]
  },
  {
   "cell_type": "markdown",
   "metadata": {},
   "source": [
    "Vemos la predicción de los datos de test y ploteamos también los datos de entrenamiento"
   ]
  },
  {
   "cell_type": "code",
   "execution_count": 7,
   "metadata": {},
   "outputs": [
    {
     "data": {
      "image/png": "[encoded data removed]",
      "text/plain": [
       "<Figure size 432x288 with 1 Axes>"
      ]
     },
     "metadata": {
      "needs_background": "light"
     },
     "output_type": "display_data"
    }
   ],
   "source": [
    "pr = model.predict(test)\n",
    "x_plot = x\n",
    "plt.scatter(test,pr,s=1,c='r')\n",
    "plt.scatter(x_plot,y,s=1,c='b')\n",
    "plt.legend(['test','train'], loc='upper left')\n",
    "plt.show()"
   ]
  },
  {
   "cell_type": "markdown",
   "metadata": {},
   "source": [
    "Representación de solo los datos de test"
   ]
  },
  {
   "cell_type": "code",
   "execution_count": 8,
   "metadata": {},
   "outputs": [
    {
     "data": {
      "image/png": "[encoded data removed]",
      "text/plain": [
       "<Figure size 432x288 with 1 Axes>"
      ]
     },
     "metadata": {
      "needs_background": "light"
     },
     "output_type": "display_data"
    }
   ],
   "source": [
    "modelo = model.predict(test)\n",
    "test_plot = test\n",
    "plt.scatter(test_plot,modelo,s=1,c='g')\n",
    "plt.show()\n"
   ]
  },
  {
   "cell_type": "markdown",
   "metadata": {},
   "source": [
    "Histórico de las métricas"
   ]
  },
  {
   "cell_type": "code",
   "execution_count": 13,
   "metadata": {},
   "outputs": [
    {
     "name": "stdout",
     "output_type": "stream",
     "text": [
      "dict_keys(['loss', 'val_loss'])\n"
     ]
    },
    {
     "data": {
      "image/png": "[encoded data removed]",
      "text/plain": [
       "<Figure size 432x288 with 1 Axes>"
      ]
     },
     "metadata": {
      "needs_background": "light"
     },
     "output_type": "display_data"
    }
   ],
   "source": [
    "print(history.history.keys())\n",
    "\n",
    "# summarize history for loss\n",
    "\n",
    "plt.plot(history.history['loss'])\n",
    "plt.plot(history.history['val_loss'])\n",
    "plt.title('model loss')\n",
    "plt.ylabel('loss')\n",
    "plt.xlabel('epoch')\n",
    "plt.legend(['train', 'validation'], loc='upper left')\n",
    "plt.show()"
   ]
  },
  {
   "cell_type": "markdown",
   "metadata": {},
   "source": [
    "El siguiente código guardaría el modelo en un h5 , lo tengo comentado si lo quieres guardar descoméntalo y pon el nombre que quieras"
   ]
  },
  {
   "cell_type": "code",
   "execution_count": 81,
   "metadata": {},
   "outputs": [],
   "source": [
    "\"\"\" model.save('modelo_save.h5') \"\"\""
   ]
  }
 ],
 "metadata": {
  "interpreter": {
   "hash": "32f9ae0b9d3f38ccb874828f6e74ecf8cc1cf737a8fc426072272590c8844b62"
  },
  "kernelspec": {
   "display_name": "Python 3.8.0 64-bit",
   "language": "python",
   "name": "python3"
  },
  "language_info": {
   "codemirror_mode": {
    "name": "ipython",
    "version": 3
   },
   "file_extension": ".py",
   "mimetype": "text/x-python",
   "name": "python",
   "nbconvert_exporter": "python",
   "pygments_lexer": "ipython3",
   "version": "3.8.0"
  },
  "orig_nbformat": 4
 },
 "nbformat": 4,
 "nbformat_minor": 2
}
